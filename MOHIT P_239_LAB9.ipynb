{
 "cells": [
  {
   "cell_type": "markdown",
   "metadata": {},
   "source": [
    "Q1. Write a program to distinguish between Array Indexing and Fancy Indexing."
   ]
  },
  {
   "cell_type": "code",
   "execution_count": 2,
   "metadata": {},
   "outputs": [
    {
     "name": "stdout",
     "output_type": "stream",
     "text": [
      "3\n",
      "[3 5]\n",
      "[[1 3]\n",
      " [2 4]]\n"
     ]
    }
   ],
   "source": [
    "import numpy as np\n",
    "\n",
    "arr = np.array([1, 2, 3, 4, 5])\n",
    "print(arr[2])  \n",
    "\n",
    "\n",
    "i = np.array([2, 4])\n",
    "print(arr[i]) \n",
    "\n",
    "a = np.array([[0, 2], [1, 3]])\n",
    "print(arr[a])  \n",
    "\n",
    "\n"
   ]
  },
  {
   "cell_type": "markdown",
   "metadata": {},
   "source": [
    "Q2. Execute the 2D array Slicing."
   ]
  },
  {
   "cell_type": "code",
   "execution_count": 3,
   "metadata": {},
   "outputs": [
    {
     "name": "stdout",
     "output_type": "stream",
     "text": [
      "[[1 2 3]\n",
      " [4 5 6]]\n",
      "[3 6 9]\n",
      "6\n"
     ]
    }
   ],
   "source": [
    "import numpy as np\n",
    "\n",
    "arr = np.array([[1, 2, 3], [4, 5, 6], [7, 8, 9]])\n",
    "\n",
    "print(arr[:2])\n",
    "\n",
    "print(arr[:, -1])\n",
    "\n",
    "print(arr[1, 2])\n",
    "\n",
    "\n"
   ]
  },
  {
   "cell_type": "markdown",
   "metadata": {},
   "source": [
    "Q3. Create the 5-Dimensional arrays using ‘ndmin’."
   ]
  },
  {
   "cell_type": "code",
   "execution_count": 6,
   "metadata": {},
   "outputs": [
    {
     "name": "stdout",
     "output_type": "stream",
     "text": [
      "[[[[[1 2 3]]]]]\n"
     ]
    }
   ],
   "source": [
    "import numpy as np\n",
    "\n",
    "arr = np.array([1, 2, 3], ndmin=5)\n",
    "\n",
    "print(arr)\n",
    "\n",
    "\n"
   ]
  },
  {
   "cell_type": "markdown",
   "metadata": {},
   "source": [
    "Q4. Reshape the array from 1-D to 2-D array."
   ]
  },
  {
   "cell_type": "code",
   "execution_count": 7,
   "metadata": {},
   "outputs": [
    {
     "name": "stdout",
     "output_type": "stream",
     "text": [
      "[[1 2 3]\n",
      " [4 5 6]]\n"
     ]
    }
   ],
   "source": [
    "import numpy as np\n",
    "\n",
    "arr = np.array([1, 2, 3, 4, 5, 6])\n",
    "\n",
    "print(arr.reshape((2, 3)))\n",
    "\n"
   ]
  },
  {
   "cell_type": "markdown",
   "metadata": {},
   "source": [
    "Q5. Perform the Stack functions in Numpy arrays – Stack(), hstack(), vstack(), and dstack()."
   ]
  },
  {
   "cell_type": "code",
   "execution_count": 12,
   "metadata": {},
   "outputs": [
    {
     "name": "stdout",
     "output_type": "stream",
     "text": [
      "stack them vertically\n",
      "[[1 2 3]\n",
      " [4 5 6]]\n",
      "stack them horizontally\n",
      "[1 2 3 4 5 6]\n",
      "stack them as 3d vertically\n",
      "[[[1 4]\n",
      "  [2 5]\n",
      "  [3 6]]]\n"
     ]
    }
   ],
   "source": [
    "import numpy as np\n",
    "\n",
    "arr1 = np.array([1, 2, 3])\n",
    "arr2 = np.array([4, 5, 6])\n",
    "\n",
    "print(\"stack them vertically\")\n",
    "print(np.stack((arr1, arr2), axis=0))\n",
    "print(\"stack them horizontally\")\n",
    "print(np.hstack((arr1, arr2)))\n",
    "print(\"stack them as 3d vertically\")\n",
    "print(np.dstack((arr1, arr2)))\n",
    "\n"
   ]
  },
  {
   "cell_type": "markdown",
   "metadata": {},
   "source": [
    "Q6. Perform the searchsort method in Numpy array."
   ]
  },
  {
   "cell_type": "code",
   "execution_count": 17,
   "metadata": {},
   "outputs": [
    {
     "name": "stdout",
     "output_type": "stream",
     "text": [
      "the element is 2\n"
     ]
    }
   ],
   "source": [
    "import numpy as np\n",
    "\n",
    "arr = np.array([1, 3, 5, 7, 9])\n",
    "\n",
    "s = np.searchsorted(arr, 5)\n",
    "print(f\"the element is {s}\")\n",
    "\n"
   ]
  },
  {
   "cell_type": "markdown",
   "metadata": {},
   "source": [
    "Q7. Create Numpy Structured array using your domain features."
   ]
  },
  {
   "cell_type": "code",
   "execution_count": 1,
   "metadata": {},
   "outputs": [
    {
     "name": "stdout",
     "output_type": "stream",
     "text": [
      "[(0,  0, 0) (1,  1, 0) (2,  3, 2) (4, 10, 3)]\n"
     ]
    }
   ],
   "source": [
    "import numpy as np\n",
    "\n",
    "array = np.array([(0,0,0),(1,1,0),(2,3,2),(4,10,3)], dtype=[('position', np.int64), ('speed', np.int64), ('acceleration', np.int64)])\n",
    "\n",
    "print(array)\n"
   ]
  },
  {
   "cell_type": "markdown",
   "metadata": {},
   "source": [
    "Q8. Create Data frame using List and Dictionary."
   ]
  },
  {
   "cell_type": "code",
   "execution_count": 3,
   "metadata": {},
   "outputs": [
    {
     "name": "stdout",
     "output_type": "stream",
     "text": [
      "Dataset using dictionary\n",
      "  Vehical_type  No. of Vehicals\n",
      "0        Truck             1900\n",
      "1          Car             1901\n",
      "2         Bike             1902\n",
      "3          Bus             1903\n",
      "\n",
      "\n",
      "Dataset using list\n",
      "  Vehical_type  No. of Vehicals\n",
      "0        Truck             1900\n",
      "1          Car             1901\n",
      "2         Bike             1902\n",
      "3          Bus             1903\n"
     ]
    }
   ],
   "source": [
    "import pandas as pd\n",
    "\n",
    "mydatasetofdict = {\n",
    "  'Vehical_type': [\"Truck\", \"Car\", \"Bike\", \"Bus\"],\n",
    "  'No. of Vehicals': [1900, 1901, 1902, 1903]\n",
    "}\n",
    "print(\"Dataset using dictionary\")\n",
    "dictdata = pd.DataFrame(mydatasetofdict) \n",
    "print(dictdata)\n",
    "\n",
    "\n",
    "\n",
    "mydatasetoflist = [['Truck', 1900], ['Car',1901], ['Bike',1902],['Bus',1903]]\n",
    "\n",
    "listdata= pd.DataFrame(mydatasetoflist, columns=['Vehical_type', 'No. of Vehicals'])\n",
    "print('\\n')\n",
    "print(\"Dataset using list\")\n",
    "print(listdata)\n"
   ]
  },
  {
   "cell_type": "markdown",
   "metadata": {},
   "source": [
    "Q9. Create Data frame on your Domain area and perform the following operations to find and eliminate the\n",
    "missing data from the dataset.\n",
    "1. isnull()\n",
    "2. notnull()\n",
    "3. dropna()\n",
    "4. fillna()\n",
    "5. replace()\n",
    "6. interpolate()"
   ]
  },
  {
   "cell_type": "code",
   "execution_count": 4,
   "metadata": {},
   "outputs": [
    {
     "name": "stdout",
     "output_type": "stream",
     "text": [
      "Dataset \n",
      "  Vehical_Type  No. of Vehicals\n",
      "0        Truck              NaN\n",
      "1          Car           1901.0\n",
      "2          NaN              NaN\n",
      "3         Bike           1903.0\n",
      "4          Bus           1904.0\n",
      "\n",
      "\n",
      "   Vehical_Type  No. of Vehicals\n",
      "0         False             True\n",
      "1         False            False\n",
      "2          True             True\n",
      "3         False            False\n",
      "4         False            False\n",
      "\n",
      "\n",
      "   Vehical_Type  No. of Vehicals\n",
      "0          True            False\n",
      "1          True             True\n",
      "2         False            False\n",
      "3          True             True\n",
      "4          True             True\n",
      "\n",
      "\n",
      "  Vehical_Type No. of Vehicals\n",
      "0        Truck         Unknown\n",
      "1          Car          1901.0\n",
      "2      Unknown         Unknown\n",
      "3         Bike          1903.0\n",
      "4          Bus          1904.0\n",
      "\n",
      "\n",
      "  Vehical_Type No. of Vehicals\n",
      "0          Van         Unknown\n",
      "1          Car          1901.0\n",
      "2      Unknown         Unknown\n",
      "3         Bike          1903.0\n",
      "4          Bus          1904.0\n"
     ]
    }
   ],
   "source": [
    "import pandas as pd\n",
    "import numpy as np\n",
    "dataset = {\n",
    "  'Vehical_Type': [\"Truck\", \"Car\", np.nan, \"Bike\",\"Bus\"],\n",
    "  'No. of Vehicals': [np.nan, 1901,np.nan, 1903,1904]\n",
    "}\n",
    "print(\"Dataset \")\n",
    "df= pd.DataFrame(dataset) \n",
    "print(df)\n",
    "\n",
    "missing = df.isnull()\n",
    "print(\"\\n\")\n",
    "print(missing)\n",
    "\n",
    "notmissing =df.notnull()\n",
    "print('\\n')\n",
    "print(notmissing)\n",
    "\n",
    "df = df.fillna(value='Unknown')\n",
    "print('\\n')\n",
    "print(df)\n",
    "\n",
    "\n",
    "df = df.replace(\"Truck\",\"Van\")\n",
    "print('\\n')\n",
    "print(df)\n",
    "\n",
    "\n"
   ]
  },
  {
   "cell_type": "code",
   "execution_count": 5,
   "metadata": {},
   "outputs": [
    {
     "name": "stdout",
     "output_type": "stream",
     "text": [
      "Dataset \n",
      "  Vehical type  No. of vehicals\n",
      "0        Truck              NaN\n",
      "1          Car           1901.0\n",
      "2          NaN              NaN\n",
      "3         Bike           1903.0\n",
      "4          Bus           1904.0\n",
      "\n",
      "\n",
      "  Vehical type  No. of vehicals\n",
      "1          Car           1901.0\n",
      "3         Bike           1903.0\n",
      "4          Bus           1904.0\n"
     ]
    }
   ],
   "source": [
    "import pandas as pd\n",
    "import numpy as np\n",
    "dataset = {\n",
    "  'Vehical type': [\"Truck\", \"Car\", np.nan, \"Bike\",\"Bus\"],\n",
    "  'No. of vehicals': [np.nan, 1901,np.nan, 1903,1904]\n",
    "}\n",
    "print(\"Dataset \")\n",
    "df= pd.DataFrame(dataset) \n",
    "print(df)\n",
    "\n",
    "df = df.dropna()\n",
    "print('\\n')\n",
    "print(df)\n"
   ]
  },
  {
   "cell_type": "code",
   "execution_count": 6,
   "metadata": {},
   "outputs": [
    {
     "name": "stdout",
     "output_type": "stream",
     "text": [
      "Dataset\n",
      "  Vehical type  No. of vehicals\n",
      "0        Truck              NaN\n",
      "1          Car           1901.0\n",
      "2         Bike              NaN\n",
      "3          Van           1903.0\n",
      "4          Bus           1904.0\n"
     ]
    },
    {
     "data": {
      "text/html": [
       "<div>\n",
       "<style scoped>\n",
       "    .dataframe tbody tr th:only-of-type {\n",
       "        vertical-align: middle;\n",
       "    }\n",
       "\n",
       "    .dataframe tbody tr th {\n",
       "        vertical-align: top;\n",
       "    }\n",
       "\n",
       "    .dataframe thead th {\n",
       "        text-align: right;\n",
       "    }\n",
       "</style>\n",
       "<table border=\"1\" class=\"dataframe\">\n",
       "  <thead>\n",
       "    <tr style=\"text-align: right;\">\n",
       "      <th></th>\n",
       "      <th>Vehical type</th>\n",
       "      <th>No. of vehicals</th>\n",
       "    </tr>\n",
       "  </thead>\n",
       "  <tbody>\n",
       "    <tr>\n",
       "      <th>0</th>\n",
       "      <td>Truck</td>\n",
       "      <td>1901.0</td>\n",
       "    </tr>\n",
       "    <tr>\n",
       "      <th>1</th>\n",
       "      <td>Car</td>\n",
       "      <td>1901.0</td>\n",
       "    </tr>\n",
       "    <tr>\n",
       "      <th>2</th>\n",
       "      <td>Bike</td>\n",
       "      <td>1902.0</td>\n",
       "    </tr>\n",
       "    <tr>\n",
       "      <th>3</th>\n",
       "      <td>Van</td>\n",
       "      <td>1903.0</td>\n",
       "    </tr>\n",
       "    <tr>\n",
       "      <th>4</th>\n",
       "      <td>Bus</td>\n",
       "      <td>1904.0</td>\n",
       "    </tr>\n",
       "  </tbody>\n",
       "</table>\n",
       "</div>"
      ],
      "text/plain": [
       "  Vehical type  No. of vehicals\n",
       "0        Truck           1901.0\n",
       "1          Car           1901.0\n",
       "2         Bike           1902.0\n",
       "3          Van           1903.0\n",
       "4          Bus           1904.0"
      ]
     },
     "execution_count": 6,
     "metadata": {},
     "output_type": "execute_result"
    }
   ],
   "source": [
    "import pandas as pd\n",
    "import numpy as np\n",
    "dataset = {\n",
    "  'Vehical type': [\"Truck\", \"Car\",\"Bike\", \"Van\",\"Bus\"],\n",
    "  'No. of vehicals': [np.nan, 1901,np.nan, 1903,1904]\n",
    "}\n",
    "print(\"Dataset\")\n",
    "df= pd.DataFrame(dataset) \n",
    "print(df)\n",
    "\n",
    "df.interpolate(method ='linear', limit_direction ='backward')"
   ]
  },
  {
   "cell_type": "markdown",
   "metadata": {},
   "source": [
    "Q10. Perform the Hierarchical Indexing in the above created dataset."
   ]
  },
  {
   "cell_type": "code",
   "execution_count": 10,
   "metadata": {},
   "outputs": [
    {
     "name": "stdout",
     "output_type": "stream",
     "text": [
      "Empty DataFrame\n",
      "Columns: []\n",
      "Index: [nan]\n"
     ]
    }
   ],
   "source": [
    "import pandas as pd\n",
    "import numpy as np\n",
    "\n",
    "dataset = {\n",
    "    'Vehical type': [\"Truck\", \"Van\", \"Car\", \"Bike\", \"Bus\"],\n",
    "    'No. of Vehicals': [np.nan, 1901, np.nan, 1903, 1904]\n",
    "}\n",
    "\n",
    "\n",
    "df = pd.DataFrame(dataset)\n",
    "\n",
    "df.set_index(['Vehical type', 'No. of Vehicals'], inplace=True)\n",
    "# Retrieve data for Newton\n",
    "newton_data = df.loc['Truck']\n",
    "print(newton_data)\n",
    "\n"
   ]
  }
 ],
 "metadata": {
  "kernelspec": {
   "display_name": "base",
   "language": "python",
   "name": "python3"
  },
  "language_info": {
   "codemirror_mode": {
    "name": "ipython",
    "version": 3
   },
   "file_extension": ".py",
   "mimetype": "text/x-python",
   "name": "python",
   "nbconvert_exporter": "python",
   "pygments_lexer": "ipython3",
   "version": "3.10.7"
  },
  "orig_nbformat": 4
 },
 "nbformat": 4,
 "nbformat_minor": 2
}
